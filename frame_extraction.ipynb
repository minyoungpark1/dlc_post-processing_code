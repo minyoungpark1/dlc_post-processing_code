{
 "cells": [
  {
   "cell_type": "markdown",
   "metadata": {},
   "source": [
    "# Frame extraction pipeline"
   ]
  },
  {
   "cell_type": "markdown",
   "metadata": {},
   "source": [
    "### First extract images and manually delete repetitive images"
   ]
  },
  {
   "cell_type": "code",
   "execution_count": null,
   "metadata": {},
   "outputs": [],
   "source": [
    "from utils.vis_utils import extract_frames\n",
    "\n",
    "img_format = 'png'\n",
    "\n",
    "# Path to folder where videos are located\n",
    "vidfolder = '/media/minyoungpark/T7 Touch/pop_1217/'\n",
    "\n",
    "vidnames = ['cam_0.avi']\n",
    "vidpaths = [os.path.join(vidfolder, vidname) for vidname in vidnames]\n",
    "\n",
    "# Path to parent folder where you want to save extracted images\n",
    "output_folder = '/media/minyoungpark/T7 Touch/for_raquel/'\n",
    "# Full path to save images\n",
    "ext = '0218'\n",
    "folders = [vid.split('.')[0] + '_' + ext for vid in vidnames]\n",
    "paths_to_save_imgs1 = [os.path.join(output_folder, folder) for folder in folders]\n",
    "\n",
    "# Manually find time intervals (in seconds) to extract and label\n",
    "times = [(11, 14),\n",
    "         (16, 18),\n",
    "         (20, 22),\n",
    "         (24, 26),\n",
    "         (28, 32),\n",
    "         (36, 39),\n",
    "         (43, 45),\n",
    "         (67, 69),\n",
    "         (73, 75),\n",
    "         (103, 107)]\n",
    "every_n_frames = 5\n",
    "for vidpath, path_to_save in zip(vidpaths, paths_to_save_imgs1):\n",
    "    extract_frames(vidpath, times, every_n_frames, path_to_save, img_format)"
   ]
  },
  {
   "cell_type": "markdown",
   "metadata": {},
   "source": [
    "### Extract images with corresponding frame counts after deleting repetitive images"
   ]
  },
  {
   "cell_type": "code",
   "execution_count": null,
   "metadata": {},
   "outputs": [],
   "source": [
    "from utils.vis_utils import extract_specific_frames\n",
    "\n",
    "vidnames = ['cam_1.avi',\n",
    "            'cam_2.avi', 'cam_3.avi']\n",
    "vidpaths = [os.path.join(vidfolder, vidname) for vidname in vidnames]\n",
    "\n",
    "# Full path to save images\n",
    "folders = [vid.split('.')[0] + '_' + ext for vid in vidnames]\n",
    "paths_to_save_imgs2 = [os.path.join(output_folder, folder) for folder in folders]\n",
    "\n",
    "# Read remaining images after you manually deleted repetitive images\n",
    "images_folder = paths_to_save_imgs1[0]\n",
    "image_indices = [int(re.findall(r'\\d+', file)[0]) \n",
    "                 for file in os.listdir(images_folder) if file.endswith('.'+img_format)]\n",
    "\n",
    "\n",
    "for vidpath, path_to_save in zip(vidpaths, paths_to_save_imgs2):\n",
    "    extract_specific_frames(vidpath, image_indices, path_to_save, img_format)"
   ]
  },
  {
   "cell_type": "markdown",
   "metadata": {},
   "source": [
    "### First extract images and manually delete repetitive images"
   ]
  },
  {
   "cell_type": "code",
   "execution_count": null,
   "metadata": {},
   "outputs": [],
   "source": [
    "from utils.vis_utils import extract_frames\n",
    "\n",
    "img_format = 'png'\n",
    "\n",
    "# Path to folder where videos are located\n",
    "vidfolder = '/media/minyoungpark/T7 Touch/pop_1217/'\n",
    "\n",
    "vidnames = ['cam_0.avi']\n",
    "vidpaths = [os.path.join(vidfolder, vidname) for vidname in vidnames]\n",
    "\n",
    "# Path to parent folder where you want to save extracted images\n",
    "output_folder = '/media/minyoungpark/T7 Touch/for_raquel/'\n",
    "# Full path to save images\n",
    "ext = '0218'\n",
    "folders = [vid.split('.')[0] + '_' + ext for vid in vidnames]\n",
    "paths_to_save_imgs1 = [os.path.join(output_folder, folder) for folder in folders]\n",
    "\n",
    "# Manually find time intervals (in seconds) to extract and label\n",
    "times = [(11, 14),\n",
    "         (16, 18),\n",
    "         (20, 22),\n",
    "         (24, 26),\n",
    "         (28, 32),\n",
    "         (36, 39),\n",
    "         (43, 45),\n",
    "         (67, 69),\n",
    "         (73, 75),\n",
    "         (103, 107)]\n",
    "every_n_frames = 5\n",
    "for vidpath, path_to_save in zip(vidpaths, paths_to_save_imgs1):\n",
    "    extract_frames(vidpath, times, every_n_frames, path_to_save, img_format)"
   ]
  },
  {
   "cell_type": "markdown",
   "metadata": {},
   "source": [
    "### Extract images with corresponding frame counts after deleting repetitive images"
   ]
  },
  {
   "cell_type": "code",
   "execution_count": null,
   "metadata": {},
   "outputs": [],
   "source": [
    "from utils.vis_utils import extract_specific_frames\n",
    "\n",
    "vidnames = ['cam_1.avi',\n",
    "            'cam_2.avi', 'cam_3.avi']\n",
    "vidpaths = [os.path.join(vidfolder, vidname) for vidname in vidnames]\n",
    "\n",
    "# Full path to save images\n",
    "folders = [vid.split('.')[0] + '_' + ext for vid in vidnames]\n",
    "paths_to_save_imgs2 = [os.path.join(output_folder, folder) for folder in folders]\n",
    "\n",
    "# Read remaining images after you manually deleted repetitive images\n",
    "images_folder = paths_to_save_imgs1[0]\n",
    "image_indices = [int(re.findall(r'\\d+', file)[0]) \n",
    "                 for file in os.listdir(images_folder) if file.endswith('.'+img_format)]\n",
    "\n",
    "\n",
    "for vidpath, path_to_save in zip(vidpaths, paths_to_save_imgs2):\n",
    "    extract_specific_frames(vidpath, image_indices, path_to_save, img_format)"
   ]
  }
 ],
 "metadata": {
  "kernelspec": {
   "display_name": "Python 3",
   "language": "python",
   "name": "python3"
  },
  "language_info": {
   "codemirror_mode": {
    "name": "ipython",
    "version": 3
   },
   "file_extension": ".py",
   "mimetype": "text/x-python",
   "name": "python",
   "nbconvert_exporter": "python",
   "pygments_lexer": "ipython3",
   "version": "3.6.8"
  }
 },
 "nbformat": 4,
 "nbformat_minor": 4
}
