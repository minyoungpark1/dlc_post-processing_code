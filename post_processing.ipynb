{
 "cells": [
  {
   "cell_type": "markdown",
   "metadata": {},
   "source": [
    "## Post-processing"
   ]
  },
  {
   "cell_type": "markdown",
   "metadata": {},
   "source": [
    "### Settings"
   ]
  },
  {
   "cell_type": "code",
   "execution_count": 9,
   "metadata": {},
   "outputs": [],
   "source": [
    "import re\n",
    "import os\n",
    "import pandas as pd\n",
    "import numpy as np\n",
    "from tqdm import trange\n",
    "from matplotlib import pyplot as plt\n",
    "\n",
    "cams = ['cam_0_trimmed', 'cam_1_trimmed', 'cam_2_trimmed', 'cam_3_trimmed']\n",
    "# cams = ['cam_0', 'cam_1', 'cam_2', 'cam_3']\n",
    "postfix = 'DLC_resnet50_Pop_freeReach_0317_mergedApr19shuffle1_170000_full.pickle'\n",
    "iteration = 18\n",
    "session_folder = '1217'\n",
    "calib_folder = 'calib_1217'\n",
    "\n",
    "os_path = '/home/myp7435/Pop_freeReach_0317_merged-Min-2020-04-19/videos/'\n",
    "calib_path = os.path.join(os_path, calib_folder)\n",
    "pickle_folder =  os.path.join(os_path, session_folder, 'iteration-'+str(iteration))\n",
    "pickle_paths = [os.path.join(pickle_folder, cam+postfix) for cam in cams]\n",
    "paths_to_save_raw_csv = [os.path.join(pickle_folder, cam+'.csv') for cam in cams]\n",
    "\n",
    "joints = ['Wrist', 'CMC_thumb', 'MCP_thumb', 'MCP1', 'MCP2', 'MCP3', 'MCP4',\n",
    "          'IP_thumb', 'PIP1', 'PIP2', 'PIP3', 'PIP4', 'Dip1', 'Dip2', 'Dip3', 'Dip4',\n",
    "          'Tip_thumb', 'Tip1', 'Tip2', 'Tip3', 'Tip4']\n",
    "\n",
    "fingers = [[\n",
    "  [\"Wrist\", \"CMC_thumb\"],\n",
    "  [\"CMC_thumb\", \"MCP_thumb\"],\n",
    "  [\"MCP_thumb\", \"IP_thumb\"],\n",
    "  [\"IP_thumb\", \"Tip_thumb\"]],\n",
    "    \n",
    "  [[\"Wrist\", \"MCP1\"],\n",
    "  [\"MCP1\", \"PIP1\"],\n",
    "  [\"PIP1\", \"Dip1\"],\n",
    "  [\"Dip1\", \"Tip1\"]],\n",
    "    \n",
    "  [[\"Wrist\", \"MCP2\"],\n",
    "  [\"MCP2\", \"PIP2\"],\n",
    "  [\"PIP2\", \"Dip2\"],\n",
    "  [\"Dip2\", \"Tip2\"]],\n",
    "\n",
    "  [[\"Wrist\", \"MCP3\"],\n",
    "  [\"MCP3\", \"PIP3\"],\n",
    "  [\"PIP3\", \"Dip3\"],\n",
    "  [\"Dip3\", \"Tip3\"]],\n",
    "    \n",
    "  [[\"Wrist\", \"MCP4\"],\n",
    "  [\"MCP4\", \"PIP4\"],\n",
    "  [\"PIP4\", \"Dip4\"],\n",
    "  [\"Dip4\", \"Tip4\"]]]\n",
    "\n",
    "# Measured connection length in mm\n",
    "dist_meds_real = {'Wrist-CMC_thumb': [23.77, 20.83, 23.26],\n",
    "                  'CMC_thumb-MCP_thumb': [18.73, 24.96, 22.56],\n",
    "                  'MCP_thumb-IP_thumb': [14.25, 18.23, 17.72],\n",
    "                  'IP_thumb-Tip_thumb': [11.66, 9.87, 10.53],\n",
    "                  'Wrist-MCP1': [43.86, 42.38, 35.63],\n",
    "                  'Wrist-MCP2': [42.81, 39.57, 35.35],\n",
    "                  'Wrist-MCP3': [42.81, 37.46, 36.32],\n",
    "                  'Wrist-MCP4': [40.50, 40.22, 36.89],\n",
    "                  'MCP1-PIP1': [26.32, 27.40, 25.19],\n",
    "                  'MCP2-PIP2': [30.07, 33.44, 30.00],\n",
    "                  'MCP3-PIP3': [30.27, 32.70, 28.53],\n",
    "                  'MCP4-PIP4': [21.95, 24.52, 24.44],\n",
    "                  'PIP1-Dip1': [18.01, 16.92, 13.58],\n",
    "                  'PIP2-Dip2': [23.08, 20.38, 18.19],\n",
    "                  'PIP3-Dip3': [21.98, 21.16, 20.16],\n",
    "                  'PIP4-Dip4': [18.29, 18.25, 14.78],\n",
    "                  'Dip1-Tip1': [11.54, 12.82, 11.55],\n",
    "                  'Dip2-Tip2': [16.18, 15.39, 12.98],\n",
    "                  'Dip3-Tip3': [14.72, 13.34, 14.15],\n",
    "                  'Dip4-Tip4': [11.17, 11.64, 10.57]}"
   ]
  },
  {
   "cell_type": "markdown",
   "metadata": {},
   "source": [
    "### Convert pickle to csv"
   ]
  },
  {
   "cell_type": "code",
   "execution_count": 10,
   "metadata": {},
   "outputs": [
    {
     "name": "stderr",
     "output_type": "stream",
     "text": [
      "100%|██████████| 3300/3300 [00:42<00:00, 77.05it/s]\n",
      "100%|██████████| 3300/3300 [00:42<00:00, 77.74it/s]\n",
      "100%|██████████| 3300/3300 [00:42<00:00, 76.80it/s]\n",
      "100%|██████████| 3300/3300 [00:42<00:00, 76.98it/s]\n"
     ]
    }
   ],
   "source": [
    "from utils.data_utils import convertPickleToCSV\n",
    "\n",
    "convertPickleToCSV(postfix, joints, pickle_paths, paths_to_save_raw_csv)"
   ]
  },
  {
   "cell_type": "markdown",
   "metadata": {},
   "source": [
    "### Create labeled videos"
   ]
  },
  {
   "cell_type": "code",
   "execution_count": 2,
   "metadata": {},
   "outputs": [
    {
     "name": "stdout",
     "output_type": "stream",
     "text": [
      "DLC loaded in light mode; you cannot use any GUI (labeling, relabeling and standalone GUI)\n"
     ]
    }
   ],
   "source": [
    "import tensorflow as tf\n",
    "from tensorflow.python.client import device_lib\n",
    "device_lib.list_local_devices()\n",
    "import os\n",
    "os.environ['DLClight']='True'\n",
    "import deeplabcut\n",
    "\n",
    "project_name = 'Groot_freeReach-Ben-2021-04-01/'\n",
    "\n",
    "home_dir = '/home/myp7435/'\n",
    "path_config_file = os.path.join(home_dir, project_name, 'config-Copy2.yaml')\n",
    "\n",
    "video_names = ['cam_0.avi','cam_1.avi','cam_2.avi','cam_3.avi']\n",
    "date = '0218'\n",
    "iteration = 'iteration-1'\n",
    "vidfolder = os.path.join(home_dir, project_name, 'videos', date)\n",
    "\n",
    "videofile_path = []\n",
    "for vid in video_names:\n",
    "    videofile_path.append(os.path.join(vidfolder, vid))\n",
    "    \n",
    "destfolder = os.path.join(vidfolder, iteration)\n",
    "\n",
    " deeplabcut.create_labeled_video(path_config_file, videofile_path, videotype=\"mp4\", destfolder=destfolder)"
   ]
  },
  {
   "cell_type": "markdown",
   "metadata": {},
   "source": [
    "### Interpolate 2D"
   ]
  },
  {
   "cell_type": "code",
   "execution_count": 4,
   "metadata": {},
   "outputs": [
    {
     "name": "stdout",
     "output_type": "stream",
     "text": [
      "[19244.59143877 19244.56236362 19244.74103451 19244.56236362]\n"
     ]
    }
   ],
   "source": [
    "from utils.data_utils import interpDroppedData2\n",
    "\n",
    "csv_paths = [os.path.join(pickle_folder, cam+'.csv') for cam in cams]\n",
    "timestamp_paths = [os.path.join(os_path, session_folder, cam+'_logfile.txt') for cam in cams]\n",
    "paths_to_save_interp_csv = [os.path.join(pickle_folder, cam+'_interp.csv') for cam in cams]\n",
    "\n",
    "interpDroppedData2(postfix, joints, csv_paths, timestamp_paths, paths_to_save_interp_csv)"
   ]
  },
  {
   "cell_type": "markdown",
   "metadata": {},
   "source": [
    "### Load config file"
   ]
  },
  {
   "cell_type": "code",
   "execution_count": 1,
   "metadata": {
    "scrolled": true
   },
   "outputs": [],
   "source": [
    "from utils.utils import load_config\n",
    "from calibration.intrinsic import calibrate_intrinsic\n",
    "from calibration.extrinsic import calibrate_extrinsic\n",
    "\n",
    "config = load_config('config_pop.toml')\n",
    "# config['paths_to_2d_data'] = paths_to_save_interp_csv\n",
    "# config['calibration']['calib_video_path'] = calib_path\n",
    "# config['output_video_path'] = pickle_folder\n",
    "# config['triangulation']['reconstruction_output_path'] = pickle_folder"
   ]
  },
  {
   "cell_type": "markdown",
   "metadata": {},
   "source": [
    "### Calibration"
   ]
  },
  {
   "cell_type": "code",
   "execution_count": 2,
   "metadata": {
    "scrolled": true
   },
   "outputs": [
    {
     "name": "stderr",
     "output_type": "stream",
     "text": [
      "  0%|                                | 2/1800 [00:00<01:31, 19.60it/s]"
     ]
    },
    {
     "name": "stdout",
     "output_type": "stream",
     "text": [
      "\n",
      "calibrating...\n",
      "\n",
      "intrinsics_0.toml already exists.\n",
      "\n",
      "intrinsics_1.toml already exists.\n",
      "\n",
      "intrinsics_2.toml already exists.\n",
      "\n",
      "intrinsics_3.toml already exists.\n",
      "\n",
      "calibration took 0 minutes and 0.0 seconds\n"
     ]
    },
    {
     "name": "stderr",
     "output_type": "stream",
     "text": [
      "100%|█████████████████████████████| 1800/1800 [00:35<00:00, 50.17it/s]\n"
     ]
    },
    {
     "name": "stdout",
     "output_type": "stream",
     "text": [
      "[(('0', '1'), 72), (('0', '2'), 388), (('0', '3'), 1197), (('1', '0'), 72), (('1', '2'), 33), (('1', '3'), 2), (('2', '0'), 388), (('2', '1'), 33), (('2', '3'), 393), (('3', '0'), 1197), (('3', '1'), 2), (('3', '2'), 393)]\n",
      "\n",
      "Before bundle adjustment, mean reprojection error is 0.09986\n",
      "   Iteration     Total nfev        Cost      Cost reduction    Step norm     Optimality   \n",
      "       0              1         1.5811e-03                                    7.27e-01    \n",
      "       1              2         7.6782e-04      8.13e-04       1.83e+02       1.18e-01    \n",
      "       2              3         7.6404e-04      3.78e-06       2.52e+00       3.90e-05    \n",
      "       3              4         7.6404e-04      4.10e-11       4.21e-02       4.51e-06    \n",
      "`ftol` termination condition is satisfied.\n",
      "Function evaluations 4, initial cost 1.5811e-03, final cost 7.6404e-04, first-order optimality 4.51e-06.\n",
      "\n",
      "bundle adjustment took 7.7 seconds\n",
      "\n",
      "After bundle adjustment, mean reprojection error is 0.07509\n"
     ]
    }
   ],
   "source": [
    "calibrate_intrinsic(config)\n",
    "calibrate_extrinsic(config)"
   ]
  },
  {
   "cell_type": "markdown",
   "metadata": {},
   "source": [
    "### 3D reconstruction"
   ]
  },
  {
   "cell_type": "code",
   "execution_count": 2,
   "metadata": {},
   "outputs": [
    {
     "name": "stderr",
     "output_type": "stream",
     "text": [
      "100%|█████████████████████████| 69300/69300 [00:29<00:00, 2316.11it/s]\n"
     ]
    }
   ],
   "source": [
    "from triangulation.triangulate import reconstruct_3d_ransac\n",
    "recovery = reconstruct_3d_ransac(config, 2, model_type='hrnet')"
   ]
  },
  {
   "cell_type": "markdown",
   "metadata": {},
   "source": [
    "### Outlier removal"
   ]
  },
  {
   "cell_type": "code",
   "execution_count": 9,
   "metadata": {},
   "outputs": [
    {
     "name": "stderr",
     "output_type": "stream",
     "text": [
      "/home/myp7435/post_processing/outlier_removal.py:35: RuntimeWarning: invalid value encountered in greater\n",
      "  above_thr = np.squeeze(np.argwhere(joint_speed > y) + 1)\n",
      "/home/myp7435/post_processing/outlier_removal.py:36: SettingWithCopyWarning: \n",
      "A value is trying to be set on a copy of a slice from a DataFrame\n",
      "\n",
      "See the caveats in the documentation: https://pandas.pydata.org/pandas-docs/stable/user_guide/indexing.html#returning-a-view-versus-a-copy\n",
      "  df_speed[joint+'_x'][above_thr] = np.nan\n",
      "/usr/local/lib/python3.6/dist-packages/pandas/core/indexing.py:670: SettingWithCopyWarning: \n",
      "A value is trying to be set on a copy of a slice from a DataFrame\n",
      "\n",
      "See the caveats in the documentation: https://pandas.pydata.org/pandas-docs/stable/user_guide/indexing.html#returning-a-view-versus-a-copy\n",
      "  iloc._setitem_with_indexer(indexer, value)\n",
      "/home/myp7435/post_processing/outlier_removal.py:37: SettingWithCopyWarning: \n",
      "A value is trying to be set on a copy of a slice from a DataFrame\n",
      "\n",
      "See the caveats in the documentation: https://pandas.pydata.org/pandas-docs/stable/user_guide/indexing.html#returning-a-view-versus-a-copy\n",
      "  df_speed[joint+'_y'][above_thr] = np.nan\n",
      "/home/myp7435/post_processing/outlier_removal.py:38: SettingWithCopyWarning: \n",
      "A value is trying to be set on a copy of a slice from a DataFrame\n",
      "\n",
      "See the caveats in the documentation: https://pandas.pydata.org/pandas-docs/stable/user_guide/indexing.html#returning-a-view-versus-a-copy\n",
      "  df_speed[joint+'_z'][above_thr] = np.nan\n",
      "/home/myp7435/post_processing/outlier_removal.py:58: RuntimeWarning: invalid value encountered in less\n",
      "  df[poi2+'_x'][(dist < lower) | (dist > upper)] = np.nan\n",
      "/home/myp7435/post_processing/outlier_removal.py:58: RuntimeWarning: invalid value encountered in greater\n",
      "  df[poi2+'_x'][(dist < lower) | (dist > upper)] = np.nan\n",
      "/home/myp7435/post_processing/outlier_removal.py:58: SettingWithCopyWarning: \n",
      "A value is trying to be set on a copy of a slice from a DataFrame\n",
      "\n",
      "See the caveats in the documentation: https://pandas.pydata.org/pandas-docs/stable/user_guide/indexing.html#returning-a-view-versus-a-copy\n",
      "  df[poi2+'_x'][(dist < lower) | (dist > upper)] = np.nan\n",
      "/home/myp7435/post_processing/outlier_removal.py:59: RuntimeWarning: invalid value encountered in less\n",
      "  df[poi2+'_y'][(dist < lower) | (dist > upper)] = np.nan\n",
      "/home/myp7435/post_processing/outlier_removal.py:59: RuntimeWarning: invalid value encountered in greater\n",
      "  df[poi2+'_y'][(dist < lower) | (dist > upper)] = np.nan\n",
      "/home/myp7435/post_processing/outlier_removal.py:59: SettingWithCopyWarning: \n",
      "A value is trying to be set on a copy of a slice from a DataFrame\n",
      "\n",
      "See the caveats in the documentation: https://pandas.pydata.org/pandas-docs/stable/user_guide/indexing.html#returning-a-view-versus-a-copy\n",
      "  df[poi2+'_y'][(dist < lower) | (dist > upper)] = np.nan\n",
      "/home/myp7435/post_processing/outlier_removal.py:60: RuntimeWarning: invalid value encountered in less\n",
      "  df[poi2+'_z'][(dist < lower) | (dist > upper)] = np.nan\n",
      "/home/myp7435/post_processing/outlier_removal.py:60: RuntimeWarning: invalid value encountered in greater\n",
      "  df[poi2+'_z'][(dist < lower) | (dist > upper)] = np.nan\n",
      "/home/myp7435/post_processing/outlier_removal.py:60: SettingWithCopyWarning: \n",
      "A value is trying to be set on a copy of a slice from a DataFrame\n",
      "\n",
      "See the caveats in the documentation: https://pandas.pydata.org/pandas-docs/stable/user_guide/indexing.html#returning-a-view-versus-a-copy\n",
      "  df[poi2+'_z'][(dist < lower) | (dist > upper)] = np.nan\n",
      "/home/myp7435/post_processing/outlier_removal.py:71: RuntimeWarning: invalid value encountered in less\n",
      "  df[poi1+'_x'][(dist < lower) | (dist > upper)] = np.nan\n",
      "/home/myp7435/post_processing/outlier_removal.py:71: RuntimeWarning: invalid value encountered in greater\n",
      "  df[poi1+'_x'][(dist < lower) | (dist > upper)] = np.nan\n",
      "/home/myp7435/post_processing/outlier_removal.py:71: SettingWithCopyWarning: \n",
      "A value is trying to be set on a copy of a slice from a DataFrame\n",
      "\n",
      "See the caveats in the documentation: https://pandas.pydata.org/pandas-docs/stable/user_guide/indexing.html#returning-a-view-versus-a-copy\n",
      "  df[poi1+'_x'][(dist < lower) | (dist > upper)] = np.nan\n",
      "/home/myp7435/post_processing/outlier_removal.py:72: RuntimeWarning: invalid value encountered in less\n",
      "  df[poi1+'_y'][(dist < lower) | (dist > upper)] = np.nan\n",
      "/home/myp7435/post_processing/outlier_removal.py:72: RuntimeWarning: invalid value encountered in greater\n",
      "  df[poi1+'_y'][(dist < lower) | (dist > upper)] = np.nan\n",
      "/home/myp7435/post_processing/outlier_removal.py:72: SettingWithCopyWarning: \n",
      "A value is trying to be set on a copy of a slice from a DataFrame\n",
      "\n",
      "See the caveats in the documentation: https://pandas.pydata.org/pandas-docs/stable/user_guide/indexing.html#returning-a-view-versus-a-copy\n",
      "  df[poi1+'_y'][(dist < lower) | (dist > upper)] = np.nan\n",
      "/home/myp7435/post_processing/outlier_removal.py:73: RuntimeWarning: invalid value encountered in less\n",
      "  df[poi1+'_z'][(dist < lower) | (dist > upper)] = np.nan\n",
      "/home/myp7435/post_processing/outlier_removal.py:73: RuntimeWarning: invalid value encountered in greater\n",
      "  df[poi1+'_z'][(dist < lower) | (dist > upper)] = np.nan\n",
      "/home/myp7435/post_processing/outlier_removal.py:73: SettingWithCopyWarning: \n",
      "A value is trying to be set on a copy of a slice from a DataFrame\n",
      "\n",
      "See the caveats in the documentation: https://pandas.pydata.org/pandas-docs/stable/user_guide/indexing.html#returning-a-view-versus-a-copy\n",
      "  df[poi1+'_z'][(dist < lower) | (dist > upper)] = np.nan\n"
     ]
    }
   ],
   "source": [
    "from post_processing.outlier_removal import outlier_speed_removal, \\\n",
    "    outlier_connection_removal\n",
    "\n",
    "from post_processing.filtering import filter_3d\n",
    "\n",
    "# Representative speed threshold for points of interest in m/s\n",
    "# Speed of  PIP:  0.75 m/s\n",
    "#           DIP:  0.9  m/s\n",
    "#           Tip:  1.2  m/s\n",
    "#           rest: 0.6  m/s\n",
    "speed_thr = [0.6, 0.75, 0.9, 1.2]\n",
    "# This function removes any outlier points that passed over the speed threshold\n",
    "# This function will save \"output_3d_data_speed.csv\" inside \"pickle_folder\"\n",
    "outlier_speed_removal(config, joints, speed_thr)\n",
    "\n",
    "# This function 1) removes any connection that is outside of (0.6*med, 1.4*med) range,\n",
    "#               2) and then (med-2*std, med+2*std)\n",
    "# This function will save \"output_3d_data_out1.csv\" and \"output_3d_data_out2.csv\"\n",
    "outlier_connection_removal(config, fingers)\n",
    "\n",
    "# This function perfrom 1) interpolation, 2) filter, and 3) remove outlier connection\n",
    "# There are two kinds of interpolation methods: linear ('linear') and cubic spline ('spline')\n",
    "# Interpolate at most 4 missing consecutive data\n",
    "# There are three kinds of filter you can use: lpf, savgol, None\n",
    "# lpf: 8 Hz zero-phase low pass filter (output_3d_data_lpf.csv)\n",
    "# savgol: Savitzky–Golay filter with 5th order and window size of 7 (output_3d_data_savgol.csv)\n",
    "# None: Doesn't apply filter, it just perform interpolation (output_3d_data_None.csv)\n",
    "interp_type = 'linear'\n",
    "filt_type = 'lpf'\n",
    "filter_3d(config, joints, fingers, interp_type, filt_type)"
   ]
  },
  {
   "cell_type": "markdown",
   "metadata": {},
   "source": [
    "***"
   ]
  },
  {
   "cell_type": "markdown",
   "metadata": {},
   "source": [
    "## Frame extraction steps"
   ]
  },
  {
   "cell_type": "markdown",
   "metadata": {},
   "source": [
    "### First extract images and manually delete repetitive images"
   ]
  },
  {
   "cell_type": "code",
   "execution_count": null,
   "metadata": {},
   "outputs": [],
   "source": [
    "from utils.vis_utils import extract_frames\n",
    "\n",
    "img_format = 'png'\n",
    "\n",
    "# Path to folder where videos are located\n",
    "vidfolder = '/media/minyoungpark/T7 Touch/pop_1217/'\n",
    "\n",
    "vidnames = ['cam_0.avi']\n",
    "vidpaths = [os.path.join(vidfolder, vidname) for vidname in vidnames]\n",
    "\n",
    "# Path to parent folder where you want to save extracted images\n",
    "output_folder = '/media/minyoungpark/T7 Touch/for_raquel/'\n",
    "# Full path to save images\n",
    "ext = '0218'\n",
    "folders = [vid.split('.')[0] + '_' + ext for vid in vidnames]\n",
    "paths_to_save_imgs1 = [os.path.join(output_folder, folder) for folder in folders]\n",
    "\n",
    "# Manually find time intervals (in seconds) to extract and label\n",
    "times = [(11, 14),\n",
    "         (16, 18),\n",
    "         (20, 22),\n",
    "         (24, 26),\n",
    "         (28, 32),\n",
    "         (36, 39),\n",
    "         (43, 45),\n",
    "         (67, 69),\n",
    "         (73, 75),\n",
    "         (103, 107)]\n",
    "every_n_frames = 5\n",
    "for vidpath, path_to_save in zip(vidpaths, paths_to_save_imgs1):\n",
    "    extract_frames(vidpath, times, every_n_frames, path_to_save, img_format)"
   ]
  },
  {
   "cell_type": "markdown",
   "metadata": {},
   "source": [
    "### Extract images with corresponding frame counts after deleting repetitive images"
   ]
  },
  {
   "cell_type": "code",
   "execution_count": null,
   "metadata": {},
   "outputs": [],
   "source": [
    "from utils.vis_utils import extract_specific_frames\n",
    "\n",
    "vidnames = ['cam_1.avi',\n",
    "            'cam_2.avi', 'cam_3.avi']\n",
    "vidpaths = [os.path.join(vidfolder, vidname) for vidname in vidnames]\n",
    "\n",
    "# Full path to save images\n",
    "folders = [vid.split('.')[0] + '_' + ext for vid in vidnames]\n",
    "paths_to_save_imgs2 = [os.path.join(output_folder, folder) for folder in folders]\n",
    "\n",
    "# Read remaining images after you manually deleted repetitive images\n",
    "images_folder = paths_to_save_imgs1[0]\n",
    "image_indices = [int(re.findall(r'\\d+', file)[0]) \n",
    "                 for file in os.listdir(images_folder) if file.endswith('.'+img_format)]\n",
    "\n",
    "\n",
    "for vidpath, path_to_save in zip(vidpaths, paths_to_save_imgs2):\n",
    "    extract_specific_frames(vidpath, image_indices, path_to_save, img_format)"
   ]
  }
 ],
 "metadata": {
  "kernelspec": {
   "display_name": "Python 3",
   "language": "python",
   "name": "python3"
  },
  "language_info": {
   "codemirror_mode": {
    "name": "ipython",
    "version": 3
   },
   "file_extension": ".py",
   "mimetype": "text/x-python",
   "name": "python",
   "nbconvert_exporter": "python",
   "pygments_lexer": "ipython3",
   "version": "3.6.8"
  },
  "varInspector": {
   "cols": {
    "lenName": 16,
    "lenType": 16,
    "lenVar": 40
   },
   "kernels_config": {
    "python": {
     "delete_cmd_postfix": "",
     "delete_cmd_prefix": "del ",
     "library": "var_list.py",
     "varRefreshCmd": "print(var_dic_list())"
    },
    "r": {
     "delete_cmd_postfix": ") ",
     "delete_cmd_prefix": "rm(",
     "library": "var_list.r",
     "varRefreshCmd": "cat(var_dic_list()) "
    }
   },
   "types_to_exclude": [
    "module",
    "function",
    "builtin_function_or_method",
    "instance",
    "_Feature"
   ],
   "window_display": false
  }
 },
 "nbformat": 4,
 "nbformat_minor": 4
}
