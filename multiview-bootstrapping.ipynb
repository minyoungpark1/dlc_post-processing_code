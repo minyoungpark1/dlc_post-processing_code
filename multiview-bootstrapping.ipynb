{
 "cells": [
  {
   "cell_type": "markdown",
   "metadata": {},
   "source": [
    "# Multiview Bootstrapping pipeline"
   ]
  },
  {
   "cell_type": "code",
   "execution_count": 1,
   "metadata": {},
   "outputs": [],
   "source": [
    "import os\n",
    "from multiview_bootstrapping import MVB\n",
    "from utils.utils import load_config\n",
    "from utils.calibration_utils import get_video_path"
   ]
  },
  {
   "cell_type": "code",
   "execution_count": 2,
   "metadata": {},
   "outputs": [
    {
     "name": "stdout",
     "output_type": "stream",
     "text": [
      "Mean of standard deviation of inferred connection lengths is: 2.49 mm\n",
      "Length of good reconstructions indices: 33\n"
     ]
    }
   ],
   "source": [
    "config = load_config('config_pop.toml')\n",
    "data_path = os.path.join(config['triangulation']['reconstruction_output_path'], 'output_3d_data_lpf_full.csv')\n",
    "\n",
    "mvb = MVB(config, data_path)\n",
    "\n",
    "mvb.select_good_frames(criterion='measured', cutoff=4, N=1000)"
   ]
  },
  {
   "cell_type": "code",
   "execution_count": 3,
   "metadata": {},
   "outputs": [
    {
     "name": "stderr",
     "output_type": "stream",
     "text": [
      "100%|██████████| 33/33 [00:01<00:00, 18.07it/s]\n",
      "  9%|▉         | 3/33 [00:00<00:01, 22.64it/s]"
     ]
    },
    {
     "name": "stdout",
     "output_type": "stream",
     "text": [
      "\n",
      "33 frames were extracted.\n"
     ]
    },
    {
     "name": "stderr",
     "output_type": "stream",
     "text": [
      "100%|██████████| 33/33 [00:02<00:00, 15.23it/s]\n",
      "  9%|▉         | 3/33 [00:00<00:01, 21.87it/s]"
     ]
    },
    {
     "name": "stdout",
     "output_type": "stream",
     "text": [
      "\n",
      "33 frames were extracted.\n"
     ]
    },
    {
     "name": "stderr",
     "output_type": "stream",
     "text": [
      "100%|██████████| 33/33 [00:02<00:00, 15.36it/s]\n",
      "  9%|▉         | 3/33 [00:00<00:01, 22.81it/s]"
     ]
    },
    {
     "name": "stdout",
     "output_type": "stream",
     "text": [
      "\n",
      "33 frames were extracted.\n"
     ]
    },
    {
     "name": "stderr",
     "output_type": "stream",
     "text": [
      "100%|██████████| 33/33 [00:02<00:00, 16.36it/s]\n"
     ]
    },
    {
     "name": "stdout",
     "output_type": "stream",
     "text": [
      "\n",
      "33 frames were extracted.\n"
     ]
    },
    {
     "name": "stderr",
     "output_type": "stream",
     "text": [
      "100%|██████████| 21/21 [00:00<00:00, 370.32it/s]\n",
      "100%|██████████| 21/21 [00:00<00:00, 380.63it/s]\n",
      "100%|██████████| 21/21 [00:00<00:00, 385.47it/s]\n",
      "100%|██████████| 21/21 [00:00<00:00, 386.70it/s]\n"
     ]
    }
   ],
   "source": [
    "project_folder_path = '/home/myp7435/Pop_freeReach_0317_merged-Min-2020-04-19/labeled-data'\n",
    "save_paths = [os.path.join(project_folder_path, 'cam_'+str(i)+'_1217') for i in range(4)]\n",
    "\n",
    "video_folder_path = '/home/myp7435/downsampled_videos/1217/experiment'\n",
    "video_paths = [os.path.join(video_folder_path, 'cam_'+str(i)+'.mp4') for i in range(4)]\n",
    "\n",
    "_, _, vid_indices = get_video_path(config)\n",
    "\n",
    "img_format = 'png'\n",
    "\n",
    "scorer = 'Min'\n",
    "individuals = 'right_hand'\n",
    "\n",
    "mvb.bootstrap(video_paths, save_paths, vid_indices, img_format, scorer, individuals)"
   ]
  },
  {
   "cell_type": "code",
   "execution_count": 4,
   "metadata": {},
   "outputs": [
    {
     "name": "stderr",
     "output_type": "stream",
     "text": [
      "100%|██████████| 33/33 [00:08<00:00,  4.07it/s]\n",
      "100%|██████████| 33/33 [00:08<00:00,  3.97it/s]\n",
      "100%|██████████| 33/33 [00:08<00:00,  3.97it/s]\n",
      "100%|██████████| 33/33 [00:08<00:00,  4.05it/s]\n"
     ]
    }
   ],
   "source": [
    "image_save_paths = [os.path.join('/home/myp7435/test', 'cam_'+str(i)+'_1217') for i in range(4)]\n",
    "\n",
    "mvb.check_mvb_images(video_paths, image_save_paths, save_paths)"
   ]
  },
  {
   "cell_type": "code",
   "execution_count": null,
   "metadata": {},
   "outputs": [],
   "source": []
  }
 ],
 "metadata": {
  "kernelspec": {
   "display_name": "Python 3",
   "language": "python",
   "name": "python3"
  },
  "language_info": {
   "codemirror_mode": {
    "name": "ipython",
    "version": 3
   },
   "file_extension": ".py",
   "mimetype": "text/x-python",
   "name": "python",
   "nbconvert_exporter": "python",
   "pygments_lexer": "ipython3",
   "version": "3.6.8"
  }
 },
 "nbformat": 4,
 "nbformat_minor": 4
}
